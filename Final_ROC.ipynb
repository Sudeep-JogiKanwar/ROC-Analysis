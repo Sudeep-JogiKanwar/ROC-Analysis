{
 "cells": [
  {
   "cell_type": "code",
   "execution_count": 1,
   "id": "3c415b02-a395-451e-b6fb-315b3aad8d01",
   "metadata": {},
   "outputs": [],
   "source": [
    "import geopandas as gpd\n",
    "import rasterio\n",
    "import numpy as np\n",
    "import pandas as pd\n",
    "from shapely.geometry import Point\n",
    "from sklearn.metrics import roc_curve, roc_auc_score\n",
    "import matplotlib.pyplot as plt\n",
    "np.random.seed(42)\n"
   ]
  },
  {
   "cell_type": "markdown",
   "id": "b9075c51-0270-4c81-9c1f-7598d993f55f",
   "metadata": {},
   "source": [
    "## DATA LOADING SECTION"
   ]
  },
  {
   "cell_type": "code",
   "execution_count": 2,
   "id": "b0fa8e08-bb3a-47b2-9591-1131e5c3bc0d",
   "metadata": {},
   "outputs": [],
   "source": [
    "\n",
    "# Load data\n",
    "fire_points_path = r\"E:\\New folder (3)\\FFRM_Lumbini\\Fire Points\\fire2024_25.shp\"\n",
    "fire_points = gpd.read_file(fire_points_path)\n",
    "\n",
    "raster_path = r\"E:\\New folder (3)\\FFRM_Lumbini\\New Folder\\FFRM5.tif\"\n",
    "raster = rasterio.open(raster_path)\n",
    "\n",
    "# CRS matching\n",
    "if fire_points.crs != raster.crs:\n",
    "    print(f\"Reprojecting fire points from {fire_points.crs} to {raster.crs}\")\n",
    "    fire_points = fire_points.to_crs(raster.crs)\n"
   ]
  },
  {
   "cell_type": "markdown",
   "id": "7578c22f-c825-4c3e-9738-831d599c7899",
   "metadata": {},
   "source": [
    "## RASTER VALUE EXTRACTION FUNCTION"
   ]
  },
  {
   "cell_type": "code",
   "execution_count": 3,
   "id": "c4357eac-a198-4a0e-af9a-a9ab76bb40aa",
   "metadata": {},
   "outputs": [],
   "source": [
    "def extract_values(points, raster_obj):\n",
    "    \"\"\"\n",
    "    Extract raster values at point locations.\n",
    "    \n",
    "    Parameters:\n",
    "    -----------\n",
    "    points : GeoDataFrame\n",
    "        Points with geometry to extract values for\n",
    "    raster_obj : rasterio.DatasetReader\n",
    "        Opened raster dataset\n",
    "        \n",
    "    Returns:\n",
    "    --------\n",
    "    list\n",
    "        Extracted raster values for each point\n",
    "    \"\"\"\n",
    "    coords = []\n",
    "    for geom in points.geometry:\n",
    "        if hasattr(geom, 'x'):\n",
    "            coords.append((geom.x, geom.y))\n",
    "        else:\n",
    "            # For non-point geometries, use centroid\n",
    "            centroid = geom.centroid\n",
    "            coords.append((centroid.x, centroid.y))\n",
    "    \n",
    "    # Sample all points at once for better performance\n",
    "    try:\n",
    "        samples = list(raster_obj.sample(coords))\n",
    "        values = [s[0] if not np.isnan(s[0]) else None for s in samples]\n",
    "        return values\n",
    "    except Exception as e:\n",
    "        print(f\"Sampling error: {e}\")\n",
    "        return [None] * len(coords)"
   ]
  },
  {
   "cell_type": "markdown",
   "id": "44ac6257-ccbd-48f5-8bc2-32ba38abe43d",
   "metadata": {},
   "source": [
    "## FIRE POINTS PROCESSING"
   ]
  },
  {
   "cell_type": "code",
   "execution_count": 4,
   "id": "4fb7294f-9919-4588-86a7-5613363085d0",
   "metadata": {},
   "outputs": [
    {
     "name": "stdout",
     "output_type": "stream",
     "text": [
      "Processing fire points...\n",
      "Fire points with valid risk scores: 14611/14611\n"
     ]
    }
   ],
   "source": [
    "print(\"Processing fire points...\")\n",
    "# Extract risk scores for fire occurrence locations\n",
    "fire_points[\"risk_score\"] = extract_values(fire_points, raster)\n",
    "\n",
    "# Remove points that couldn't be extracted (None or NaN values)\n",
    "original_fire_count = len(fire_points)\n",
    "fire_points = fire_points.dropna(subset=[\"risk_score\"])\n",
    "print(f\"Fire points with valid risk scores: {len(fire_points)}/{original_fire_count}\")"
   ]
  },
  {
   "cell_type": "markdown",
   "id": "e8048eef-6c3f-401c-9c6f-5b3e85598619",
   "metadata": {},
   "source": [
    "## BACKGROUND POINTS GENERATION"
   ]
  },
  {
   "cell_type": "code",
   "execution_count": 5,
   "id": "62053293-c43b-4170-be05-135ef67589ba",
   "metadata": {},
   "outputs": [
    {
     "name": "stdout",
     "output_type": "stream",
     "text": [
      "\n",
      "Generating background points for comparison...\n",
      "Target: 29222 background points\n",
      "  Progress: 5000/29222 points\n",
      "  Progress: 10000/29222 points\n",
      "  Progress: 15000/29222 points\n",
      "  Progress: 20000/29222 points\n",
      "  Progress: 25000/29222 points\n",
      "Successfully generated 29222 background points\n"
     ]
    }
   ],
   "source": [
    "print(\"\\nGenerating background points for comparison...\")\n",
    "\n",
    "# Get raster bounds for random point generation\n",
    "bounds = raster.bounds\n",
    "\n",
    "# Generate twice as many background points as fire points for robust comparison\n",
    "n_background = len(fire_points) * 2\n",
    "background_points = []\n",
    "max_attempts = n_background * 10  # Safety limit to prevent infinite loops\n",
    "\n",
    "print(f\"Target: {n_background} background points\")\n",
    "\n",
    "# Generate random points within raster bounds\n",
    "for attempt in range(max_attempts):\n",
    "    # Exit loop if we've generated enough points\n",
    "    if len(background_points) >= n_background:\n",
    "        break\n",
    "        \n",
    "    # Generate random coordinates within raster bounds\n",
    "    x = np.random.uniform(bounds.left, bounds.right)\n",
    "    y = np.random.uniform(bounds.bottom, bounds.top)\n",
    "    point = Point(x, y)\n",
    "    \n",
    "    # Validate point by checking if we can extract a valid raster value\n",
    "    try:\n",
    "        val = list(raster.sample([(x, y)]))[0][0]\n",
    "        if not np.isnan(val):  # Only keep points with valid data\n",
    "            background_points.append(point)\n",
    "    except:\n",
    "        # Skip points that cause errors (e.g., outside valid data area)\n",
    "        pass\n",
    "    \n",
    "    # Progress reporting\n",
    "    if (attempt + 1) % 5000 == 0:\n",
    "        print(f\"  Progress: {len(background_points)}/{n_background} points\")\n",
    "\n",
    "print(f\"Successfully generated {len(background_points)} background points\")"
   ]
  },
  {
   "cell_type": "markdown",
   "id": "6d16978b-1c81-42b5-a086-832ff685faa5",
   "metadata": {},
   "source": [
    "## BACKGROUND POINTS PROCESSING"
   ]
  },
  {
   "cell_type": "code",
   "execution_count": 6,
   "id": "d3032627-ffb8-48e0-9a7d-b422a2e2b6ad",
   "metadata": {},
   "outputs": [
    {
     "name": "stdout",
     "output_type": "stream",
     "text": [
      "Background points with valid risk scores: 29222/29222\n"
     ]
    }
   ],
   "source": [
    "# Create GeoDataFrame for background points\n",
    "background_gdf = gpd.GeoDataFrame(geometry=background_points, crs=fire_points.crs)\n",
    "\n",
    "# Extract risk scores for background points\n",
    "background_gdf[\"risk_score\"] = extract_values(background_gdf, raster)\n",
    "\n",
    "# Remove invalid background points\n",
    "original_bg_count = len(background_gdf)\n",
    "background_gdf = background_gdf.dropna(subset=[\"risk_score\"])\n",
    "print(f\"Background points with valid risk scores: {len(background_gdf)}/{original_bg_count}\")"
   ]
  },
  {
   "cell_type": "markdown",
   "id": "96da8457-5326-4e77-8310-a19017a6eaa0",
   "metadata": {},
   "source": [
    "## DATA VALIDATION AND SUMMARY STATISTICS"
   ]
  },
  {
   "cell_type": "code",
   "execution_count": 7,
   "id": "5dd8835f-ceb6-46ee-a7a8-eb599576f8a8",
   "metadata": {},
   "outputs": [
    {
     "name": "stdout",
     "output_type": "stream",
     "text": [
      "\n",
      "==================================================\n",
      "DATA SUMMARY\n",
      "==================================================\n",
      "Fire points: 14611\n",
      "Background points: 29222\n",
      "Fire points risk - Mean: -inf, Std: inf\n",
      "Background risk - Mean: -inf, Std: inf\n"
     ]
    },
    {
     "name": "stderr",
     "output_type": "stream",
     "text": [
      "C:\\Users\\jkwrs\\miniconda3\\envs\\roc_env\\Lib\\site-packages\\numpy\\_core\\_methods.py:51: RuntimeWarning: overflow encountered in reduce\n",
      "  return umr_sum(a, axis, dtype, out, keepdims, initial, where)\n",
      "C:\\Users\\jkwrs\\miniconda3\\envs\\roc_env\\Lib\\site-packages\\pandas\\core\\nanops.py:1025: RuntimeWarning: overflow encountered in cast\n",
      "  result = result.astype(dtype, copy=False)\n"
     ]
    }
   ],
   "source": [
    "print(f\"\\n\" + \"=\"*50)\n",
    "print(\"DATA SUMMARY\")\n",
    "print(\"=\"*50)\n",
    "\n",
    "print(f\"Fire points: {len(fire_points)}\")\n",
    "print(f\"Background points: {len(background_gdf)}\")\n",
    "\n",
    "# Calculate and display summary statistics\n",
    "fire_mean = fire_points['risk_score'].mean()\n",
    "fire_std = fire_points['risk_score'].std()\n",
    "bg_mean = background_gdf['risk_score'].mean()\n",
    "bg_std = background_gdf['risk_score'].std()\n",
    "\n",
    "print(f\"Fire points risk - Mean: {fire_mean:.3f}, Std: {fire_std:.3f}\")\n",
    "print(f\"Background risk - Mean: {bg_mean:.3f}, Std: {bg_std:.3f}\")"
   ]
  },
  {
   "cell_type": "markdown",
   "id": "5d4da9a6-a9b8-409a-a6f0-b06df4b99460",
   "metadata": {},
   "source": [
    "## ROC ANALYSIS"
   ]
  },
  {
   "cell_type": "code",
   "execution_count": 8,
   "id": "d12d7e43-245d-4f3a-92b2-84e2d26d5875",
   "metadata": {},
   "outputs": [
    {
     "name": "stdout",
     "output_type": "stream",
     "text": [
      "\n",
      "==================================================\n",
      "RESULTS\n",
      "==================================================\n",
      "AUC Score: 0.848\n",
      "Interpretation: Good discrimination\n"
     ]
    }
   ],
   "source": [
    "# Prepare data for ROC analysis\n",
    "# 1 = fire point, 0 = background point\n",
    "y_true = [1] * len(fire_points) + [0] * len(background_gdf)\n",
    "y_scores = list(fire_points[\"risk_score\"]) + list(background_gdf[\"risk_score\"])\n",
    "\n",
    "# Calculate ROC curve and AUC score\n",
    "fpr, tpr, thresholds = roc_curve(y_true, y_scores)\n",
    "auc = roc_auc_score(y_true, y_scores)\n",
    "\n",
    "print(f\"\\n\" + \"=\"*50)\n",
    "print(\"RESULTS\")\n",
    "print(\"=\"*50)\n",
    "print(f\"AUC Score: {auc:.3f}\")\n",
    "\n",
    "# Interpret AUC score\n",
    "if auc >= 0.9:\n",
    "    interpretation = \"Excellent discrimination\"\n",
    "elif auc >= 0.8:\n",
    "    interpretation = \"Good discrimination\" \n",
    "elif auc >= 0.7:\n",
    "    interpretation = \"Fair discrimination\"\n",
    "elif auc >= 0.6:\n",
    "    interpretation = \"Poor discrimination\"\n",
    "else:\n",
    "    interpretation = \"Failed discrimination\"\n",
    "\n",
    "print(f\"Interpretation: {interpretation}\")"
   ]
  },
  {
   "cell_type": "markdown",
   "id": "22cc6468-cf7a-46a8-99c6-796776586bcd",
   "metadata": {},
   "source": [
    "## VISUALIZATION"
   ]
  },
  {
   "cell_type": "code",
   "execution_count": 9,
   "id": "4f5a92e3-69ae-4da9-8cdc-f10b29953e9f",
   "metadata": {},
   "outputs": [
    {
     "data": {
      "image/png": "[encoded data removed]",
      "text/plain": [
       "<Figure size 800x600 with 1 Axes>"
      ]
     },
     "metadata": {},
     "output_type": "display_data"
    }
   ],
   "source": [
    "# Create ROC curve plot\n",
    "plt.figure(figsize=(8, 6))\n",
    "plt.plot(fpr, tpr, 'b-', linewidth=2, label=f'ROC Curve (AUC = {auc:.3f})')\n",
    "plt.plot([0, 1], [0, 1], 'k--', linewidth=1, alpha=0.5, label='Random Classifier')\n",
    "\n",
    "# Customize plot appearance\n",
    "plt.xlabel('False Positive Rate', fontsize=12)\n",
    "plt.ylabel('True Positive Rate', fontsize=12)\n",
    "plt.title('ROC Curve - Fire Risk Model Validation', fontsize=14, fontweight='bold')\n",
    "plt.legend(loc='lower right', fontsize=11)\n",
    "plt.grid(True, alpha=0.3)\n",
    "plt.xlim([0, 1])\n",
    "plt.ylim([0, 1])\n",
    "\n",
    "# Save and display plot\n",
    "plt.tight_layout()\n",
    "plt.savefig(\"roc_ffrm.png\", dpi=300, bbox_inches='tight')\n",
    "plt.show()"
   ]
  },
  {
   "cell_type": "markdown",
   "id": "ef7d3994-c91e-4064-9da4-38e7baadb1df",
   "metadata": {},
   "source": [
    "## CLEANUP"
   ]
  },
  {
   "cell_type": "code",
   "execution_count": 10,
   "id": "bcf84f0e-90d3-475d-b87f-5cb519612abb",
   "metadata": {},
   "outputs": [],
   "source": [
    "# Close raster file\n",
    "raster.close()"
   ]
  }
 ],
 "metadata": {
  "kernelspec": {
   "display_name": "Python (roc_env)",
   "language": "python",
   "name": "roc_env"
  },
  "language_info": {
   "codemirror_mode": {
    "name": "ipython",
    "version": 3
   },
   "file_extension": ".py",
   "mimetype": "text/x-python",
   "name": "python",
   "nbconvert_exporter": "python",
   "pygments_lexer": "ipython3",
   "version": "3.11.13"
  }
 },
 "nbformat": 4,
 "nbformat_minor": 5
}
